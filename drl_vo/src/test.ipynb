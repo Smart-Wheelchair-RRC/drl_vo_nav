{
 "cells": [
  {
   "cell_type": "code",
   "execution_count": 1,
   "metadata": {},
   "outputs": [
    {
     "name": "stderr",
     "output_type": "stream",
     "text": [
      "<>:6: SyntaxWarning: 'int' object is not callable; perhaps you missed a comma?\n",
      "<>:6: SyntaxWarning: 'int' object is not callable; perhaps you missed a comma?\n",
      "<>:6: SyntaxWarning: 'int' object is not callable; perhaps you missed a comma?\n",
      "<>:7: SyntaxWarning: 'int' object is not callable; perhaps you missed a comma?\n",
      "<>:7: SyntaxWarning: 'int' object is not callable; perhaps you missed a comma?\n",
      "<>:7: SyntaxWarning: 'int' object is not callable; perhaps you missed a comma?\n",
      "<>:8: SyntaxWarning: 'int' object is not callable; perhaps you missed a comma?\n",
      "<>:8: SyntaxWarning: 'int' object is not callable; perhaps you missed a comma?\n",
      "<>:8: SyntaxWarning: 'int' object is not callable; perhaps you missed a comma?\n",
      "<>:6: SyntaxWarning: 'int' object is not callable; perhaps you missed a comma?\n",
      "<>:6: SyntaxWarning: 'int' object is not callable; perhaps you missed a comma?\n",
      "<>:6: SyntaxWarning: 'int' object is not callable; perhaps you missed a comma?\n",
      "<>:7: SyntaxWarning: 'int' object is not callable; perhaps you missed a comma?\n",
      "<>:7: SyntaxWarning: 'int' object is not callable; perhaps you missed a comma?\n",
      "<>:7: SyntaxWarning: 'int' object is not callable; perhaps you missed a comma?\n",
      "<>:8: SyntaxWarning: 'int' object is not callable; perhaps you missed a comma?\n",
      "<>:8: SyntaxWarning: 'int' object is not callable; perhaps you missed a comma?\n",
      "<>:8: SyntaxWarning: 'int' object is not callable; perhaps you missed a comma?\n"
     ]
    },
    {
     "ename": "ModuleNotFoundError",
     "evalue": "No module named 'numpy'",
     "output_type": "error",
     "traceback": [
      "\u001b[0;31m---------------------------------------------------------------------------\u001b[0m",
      "\u001b[0;31mModuleNotFoundError\u001b[0m                       Traceback (most recent call last)",
      "Cell \u001b[0;32mIn[1], line 1\u001b[0m\n\u001b[0;32m----> 1\u001b[0m \u001b[38;5;28;01mimport\u001b[39;00m \u001b[38;5;21;01mnumpy\u001b[39;00m \u001b[38;5;28;01mas\u001b[39;00m \u001b[38;5;21;01mnp\u001b[39;00m\n\u001b[1;32m      3\u001b[0m \u001b[38;5;28;01mdef\u001b[39;00m \u001b[38;5;21mquaternion_to_rotation_matrix\u001b[39m(q):\n\u001b[1;32m      4\u001b[0m \u001b[38;5;250m    \u001b[39m\u001b[38;5;124;03m\"\"\"Converts a quaternion to a rotation matrix.\"\"\"\u001b[39;00m\n",
      "\u001b[0;31mModuleNotFoundError\u001b[0m: No module named 'numpy'"
     ]
    }
   ],
   "source": [
    "import numpy as np\n",
    "\n",
    "def quaternion_to_rotation_matrix(q):\n",
    "    \"\"\"Converts a quaternion to a rotation matrix.\"\"\"\n",
    "    x, y, z, w = q\n",
    "    R = np.array([[1-2(y**2+z**2), 2(xy-wz), 2(xz+wy)],\n",
    "                  [2(xy+wz), 1-2(x**2+z^2), 2(yz-wx)],\n",
    "                  [2(xz-wy), 2(yz+wx), 1-2(x**2+y^2)]])\n",
    "    return R\n",
    "\n",
    "def transform_point(point, translation, quaternion):\n",
    "    \"\"\"Transforms a point using a given translation and quaternion.\"\"\"\n",
    "    rotation_matrix = quaternion_to_rotation_matrix(quaternion)\n",
    "    rotated_point = np.dot(rotation_matrix, point)\n",
    "    transformed_point = rotated_point + translation\n",
    "    return transformed_point\n",
    "\n",
    "# Example usage:\n",
    "point = np.array([1, 2, 3])\n",
    "translation = np.array([-6.917, -14.213, -0.010])\n",
    "quaternion = np.array([0.000, 0.000, -0.065, 0.998])\n",
    "\n",
    "transformed_point = transform_point(point, translation, quaternion)\n",
    "print(transformed_point)"
   ]
  },
  {
   "cell_type": "code",
   "execution_count": null,
   "metadata": {},
   "outputs": [],
   "source": []
  }
 ],
 "metadata": {
  "kernelspec": {
   "display_name": "base",
   "language": "python",
   "name": "python3"
  },
  "language_info": {
   "codemirror_mode": {
    "name": "ipython",
    "version": 3
   },
   "file_extension": ".py",
   "mimetype": "text/x-python",
   "name": "python",
   "nbconvert_exporter": "python",
   "pygments_lexer": "ipython3",
   "version": "3.12.2"
  }
 },
 "nbformat": 4,
 "nbformat_minor": 2
}
